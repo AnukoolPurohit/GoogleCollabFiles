{
 "cells": [
  {
   "cell_type": "code",
   "execution_count": 1,
   "metadata": {},
   "outputs": [],
   "source": [
    "%matplotlib inline\n",
    "%reload_ext autoreload\n",
    "%autoreload 2"
   ]
  },
  {
   "cell_type": "code",
   "execution_count": 2,
   "metadata": {},
   "outputs": [],
   "source": [
    "import matplotlib.pyplot as plt\n",
    "\n",
    "import torch\n",
    "from torch import nn\n",
    "from torch import optim\n",
    "import torch.nn.functional as F\n",
    "from torchvision import datasets, transforms, models\n",
    "from collections import OrderedDict\n",
    "from IPython import display"
   ]
  },
  {
   "cell_type": "code",
   "execution_count": 3,
   "metadata": {},
   "outputs": [],
   "source": [
    "def getdata():\n",
    "    data_dir = '/content/dogscats'\n",
    "    \n",
    "    train_transforms = transforms.Compose([transforms.Resize([224,224]),\n",
    "                                           transforms.ToTensor(),\n",
    "                                           transforms.Normalize([0.485,0.456,0.406],\n",
    "                                                                [0.229,0.224,0.225])])\n",
    "    \n",
    "    valid_transforms = transforms.Compose([transforms.Resize([224,224]),\n",
    "                                           transforms.ToTensor(),\n",
    "                                           transforms.Normalize([0.485,0.456,0.406],\n",
    "                                                                [0.229,0.224,0.225])])\n",
    "    \n",
    "    train_data = datasets.ImageFolder(data_dir+ '/train', transform=train_transforms)\n",
    "    valid_data = datasets.ImageFolder(data_dir+ '/valid', transform=valid_transforms)\n",
    "    \n",
    "    trainloader = torch.utils.data.DataLoader(train_data, batch_size=64, shuffle=True)\n",
    "    validloader = torch.utils.data.DataLoader(valid_data, batch_size=64)\n",
    "    \n",
    "    return [trainloader, validloader]"
   ]
  },
  {
   "cell_type": "code",
   "execution_count": 4,
   "metadata": {},
   "outputs": [],
   "source": [
    "def freeze_model(model):\n",
    "    for params in model.parameters():\n",
    "        params.requires_grad = False\n",
    "    return model"
   ]
  },
  {
   "cell_type": "code",
   "execution_count": 5,
   "metadata": {},
   "outputs": [],
   "source": [
    "def model_train(model, trainloader, validloader, criterion, optimizer, epochs = 1, plot=False):\n",
    "    steps = 0\n",
    "    running_loss = 0\n",
    "    running_losses = []\n",
    "    valid_losses = []\n",
    "    if not plot:\n",
    "        print_every=5\n",
    "    else:\n",
    "        print_every=1\n",
    "    device = torch.device(\"cuda\" if torch.cuda.is_available() else \"cpu\")\n",
    "    model.to(device);\n",
    "    for epoch in range(epochs):\n",
    "        for inputs, labels in trainloader:\n",
    "            steps += 1\n",
    "            # Move input and label tensors to the default device\n",
    "            inputs, labels = inputs.to(device), labels.to(device)\n",
    "\n",
    "            optimizer.zero_grad()\n",
    "\n",
    "            logps = model.forward(inputs)\n",
    "            loss = criterion(logps, labels)\n",
    "            loss.backward()\n",
    "            optimizer.step()\n",
    "\n",
    "            running_loss += loss.item()\n",
    "            running_losses.append(running_loss)\n",
    "            if steps % print_every == 0:\n",
    "                valid_loss = 0\n",
    "                accuracy = 0\n",
    "                model.eval()\n",
    "                with torch.no_grad():\n",
    "                    for inputs, labels in validloader:\n",
    "                        inputs, labels = inputs.to(device), labels.to(device)\n",
    "                        logps = model.forward(inputs)\n",
    "                        batch_loss = criterion(logps, labels)\n",
    "                        valid_loss += batch_loss.item()\n",
    "                        # Calculate accuracy\n",
    "                        ps = torch.exp(logps)\n",
    "                        top_p, top_class = ps.topk(1, dim=1)\n",
    "                        equals = top_class == labels.view(*top_class.shape)\n",
    "                        accuracy += torch.mean(equals.type(torch.FloatTensor)).item()\n",
    "                    valid_losses.append(valid_loss/(len(validloader)) )\n",
    "                display.clear_output(wait=True)\n",
    "                display.display(f\"Epoch {epoch+1}/{epochs}.. \"\n",
    "                      f\"Train loss: {running_loss/print_every:.3f}.. \"\n",
    "                      f\"Valid loss: {valid_loss/len(validloader):.3f}.. \"\n",
    "                      f\"Valid accuracy: {accuracy/len(validloader):.3f}\")\n",
    "                if (steps > 1) and plot:\n",
    "                    plt.plot(running_losses, 'b', linewidth=2.0,\n",
    "                             label=\"Training-Loss\" if steps == 2 else \"_nolegend_\")\n",
    "                    plt.plot(valid_losses, 'y', linewidth=2.0,\n",
    "                             label=\"Validation-Loss\" if steps == 2 else \"_nolegend_\")\n",
    "                    if steps == 2:\n",
    "                        plt.legend()\n",
    "                    display.display(plt.gcf())\n",
    "                running_loss = 0\n",
    "                model.train()"
   ]
  },
  {
   "cell_type": "code",
   "execution_count": 6,
   "metadata": {},
   "outputs": [],
   "source": [
    "dataloaders = getdata()\n",
    "\n",
    "trainloader = dataloaders[0]\n",
    "validloader = dataloaders[1]"
   ]
  },
  {
   "cell_type": "code",
   "execution_count": 7,
   "metadata": {},
   "outputs": [],
   "source": [
    "model = models.resnet50(pretrained=True)"
   ]
  },
  {
   "cell_type": "code",
   "execution_count": 8,
   "metadata": {},
   "outputs": [],
   "source": [
    "model = freeze_model(model)"
   ]
  },
  {
   "cell_type": "code",
   "execution_count": 9,
   "metadata": {},
   "outputs": [],
   "source": [
    "classifer = nn.Sequential(OrderedDict([\n",
    "                         ('fc1', nn.Linear(2048, 1024)),\n",
    "                         ('relu', nn.ReLU()),\n",
    "                         ('fc2', nn.Linear(1024, 512)),\n",
    "                         ('relu', nn.ReLU()),\n",
    "                         ('fc3', nn.Linear(512,2)),\n",
    "                         ('output', nn.LogSoftmax(dim=1))]))"
   ]
  },
  {
   "cell_type": "code",
   "execution_count": 10,
   "metadata": {},
   "outputs": [],
   "source": [
    "model.fc = classifer"
   ]
  },
  {
   "cell_type": "code",
   "execution_count": 11,
   "metadata": {},
   "outputs": [],
   "source": [
    "criterion = nn.NLLLoss()\n",
    "optimizer = optim.Adam(model.fc.parameters(), lr=0.003)"
   ]
  },
  {
   "cell_type": "code",
   "execution_count": 12,
   "metadata": {},
   "outputs": [
    {
     "data": {
      "text/plain": [
       "'Epoch 1/1.. Train loss: 0.040.. Valid loss: 0.046.. Valid accuracy: 0.982'"
      ]
     },
     "metadata": {},
     "output_type": "display_data"
    }
   ],
   "source": [
    "model_train(model, trainloader, validloader, criterion, optimizer )"
   ]
  },
  {
   "cell_type": "code",
   "execution_count": null,
   "metadata": {},
   "outputs": [],
   "source": []
  }
 ],
 "metadata": {
  "kernelspec": {
   "display_name": "Python 3",
   "language": "python",
   "name": "python3"
  },
  "language_info": {
   "codemirror_mode": {
    "name": "ipython",
    "version": 3
   },
   "file_extension": ".py",
   "mimetype": "text/x-python",
   "name": "python",
   "nbconvert_exporter": "python",
   "pygments_lexer": "ipython3",
   "version": "3.7.2"
  }
 },
 "nbformat": 4,
 "nbformat_minor": 2
}
